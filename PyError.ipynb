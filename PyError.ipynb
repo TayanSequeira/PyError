{
  "nbformat": 4,
  "nbformat_minor": 0,
  "metadata": {
    "colab": {
      "name": "PyError.ipynb",
      "provenance": [],
      "authorship_tag": "ABX9TyP8GEolRJSvIZ04OgtP7lEo",
      "include_colab_link": true
    },
    "kernelspec": {
      "name": "python3",
      "display_name": "Python 3"
    }
  },
  "cells": [
    {
      "cell_type": "markdown",
      "metadata": {
        "id": "view-in-github",
        "colab_type": "text"
      },
      "source": [
        "<a href=\"https://colab.research.google.com/github/gabi-mendes/PyError/blob/main/PyError.ipynb\" target=\"_parent\"><img src=\"https://colab.research.google.com/assets/colab-badge.svg\" alt=\"Open In Colab\"/></a>"
      ]
    },
    {
      "cell_type": "markdown",
      "metadata": {
        "id": "KBm15o-EaBSs"
      },
      "source": [
        "# Estrutura de Dados para Propagação de Erros "
      ]
    },
    {
      "cell_type": "markdown",
      "metadata": {
        "id": "JpkEwhjcba6N"
      },
      "source": [
        "Para a confecção do programa, usaremos apenas um módulo da biblioteca padrão do Python, o módulo math.\r\n"
      ]
    },
    {
      "cell_type": "code",
      "metadata": {
        "id": "v3JaNLmmNkC7"
      },
      "source": [
        "import math"
      ],
      "execution_count": 1,
      "outputs": []
    },
    {
      "cell_type": "markdown",
      "metadata": {
        "id": "crb869ZxdAwj"
      },
      "source": [
        "A estrutura de dados será nomeada de DataPoint, que terá uma variável para o seu valor e outra para o seu erro. Utilizando as funções \\_\\_add__, \\_\\_sub__, \\_\\_mul__ e \\_\\_truediv__ podemos determinar como se dará a soma, subtração, multiplicação e divisão dessa classe, respectivamente. Além disso, a função error_propagation terá um papel muito importante para o cálculo do erro dessas operações."
      ]
    },
    {
      "cell_type": "code",
      "metadata": {
        "id": "DQLXEK3uNn6X"
      },
      "source": [
        "class DataPoint:\r\n",
        "    ADD = \"+\"\r\n",
        "    SUB = \"-\"\r\n",
        "    MUL = \"*\"\r\n",
        "    DIV = \"/\"\r\n",
        "\r\n",
        "    def __init__(self, value, error=.0):\r\n",
        "        self.value = value\r\n",
        "        self.error = error\r\n",
        "\r\n",
        "    def __add__(self, other):\r\n",
        "        if isinstance(other, float) or isinstance(other, int):\r\n",
        "            self.value += other\r\n",
        "            return self\r\n",
        "\r\n",
        "        if isinstance(other, DataPoint):\r\n",
        "            return DataPoint(self.value + other.value,\r\n",
        "                             self.error_propagation(self.ADD, other))\r\n",
        "\r\n",
        "        raise TypeError\r\n",
        "\r\n",
        "    def __sub__(self, other):\r\n",
        "        if isinstance(other, float) or isinstance(other, int):\r\n",
        "            self.value -= other\r\n",
        "            return self\r\n",
        "\r\n",
        "        if isinstance(other, DataPoint):\r\n",
        "            return DataPoint(self.value - other.value,\r\n",
        "                             self.error_propagation(self.SUB, other))\r\n",
        "\r\n",
        "        raise TypeError\r\n",
        "\r\n",
        "    def __mul__(self, other):\r\n",
        "        if isinstance(other, float) or isinstance(other, int):\r\n",
        "            self.error = self.error_propagation(self.MUL, other)\r\n",
        "            self.value = self.value * other\r\n",
        "            return self\r\n",
        "\r\n",
        "        if isinstance(other, DataPoint):\r\n",
        "            return DataPoint(self.value * other.value,\r\n",
        "                             self.error_propagation(self.MUL, other))\r\n",
        "\r\n",
        "        raise TypeError\r\n",
        "\r\n",
        "    def __truediv__(self, other):\r\n",
        "        if isinstance(other, float) or isinstance(other, int):\r\n",
        "            self.error = self.error_propagation(self.DIV, other)\r\n",
        "            self.value = self.value / other\r\n",
        "            return self\r\n",
        "\r\n",
        "        if isinstance(other, DataPoint):\r\n",
        "            return DataPoint(self.value / other.value,\r\n",
        "                             self.error_propagation(self.DIV, other))\r\n",
        "\r\n",
        "        raise TypeError\r\n",
        "    \r\n",
        "    @property\r\n",
        "    def max_value(self):\r\n",
        "        return self.value + self.error\r\n",
        "        \r\n",
        "    @property\r\n",
        "    def min_value(self):\r\n",
        "        return self.value - self.error\r\n",
        "\r\n",
        "    @staticmethod\r\n",
        "    def combination(data_points):\r\n",
        "        n = len(data_points)\r\n",
        "\r\n",
        "        sigma = .0\r\n",
        "        for index in range(n):\r\n",
        "            if not isinstance(data_points[index], DataPoint):\r\n",
        "                raise TypeError\r\n",
        "            \r\n",
        "            sigma += 1 / data_points[index].error ** 2\r\n",
        "\r\n",
        "        sigma = 1 / math.sqrt(sigma)\r\n",
        "\r\n",
        "        value = .0\r\n",
        "        for index in range(n):\r\n",
        "            value += ((sigma / data_points[index].error) ** 2) * data_points[index].value\r\n",
        "\r\n",
        "        return DataPoint(value, sigma)\r\n",
        "\r\n",
        "    @staticmethod\r\n",
        "    def compatibility(data_points):\r\n",
        "        n = len(data_points)\r\n",
        "\r\n",
        "        for i in range(n):\r\n",
        "            for j in range(n):\r\n",
        "                if i == j:\r\n",
        "                    continue\r\n",
        "                \r\n",
        "                dp = data_points[i] - data_points[j]\r\n",
        "\r\n",
        "                if abs(dp.value) > 2 * dp.error:\r\n",
        "                    return False\r\n",
        "\r\n",
        "        return True\r\n",
        "        \r\n",
        "\r\n",
        "\r\n",
        "    def error_propagation(self, operator, other):\r\n",
        "        if operator == self.ADD or operator == self.SUB:\r\n",
        "            if isinstance(other, DataPoint):\r\n",
        "                return math.sqrt(self.error ** 2 + other.error ** 2)\r\n",
        "\r\n",
        "            if isinstance(other, (float, int)):\r\n",
        "                return self.error\r\n",
        "\r\n",
        "            raise TypeError\r\n",
        "\r\n",
        "        if operator == self.MUL:\r\n",
        "            if isinstance(other, DataPoint):\r\n",
        "                return (self.value * other.value) * math.sqrt(\r\n",
        "                    (self.error / self.value) ** 2 + (other.error / other.value) ** 2)\r\n",
        "\r\n",
        "            if isinstance(other, (float, int)):\r\n",
        "                return other * self.error\r\n",
        "\r\n",
        "            raise TypeError\r\n",
        "\r\n",
        "        if operator == self.DIV:\r\n",
        "            if isinstance(other, DataPoint):\r\n",
        "                return (self.value / other.value) * math.sqrt(\r\n",
        "                    (self.error / self.value) ** 2 + (other.error / other.value) ** 2)\r\n",
        "            \r\n",
        "            if isinstance(other, (float, int)):\r\n",
        "                return self.error / other\r\n",
        "\r\n",
        "            raise TypeError"
      ],
      "execution_count": 2,
      "outputs": []
    },
    {
      "cell_type": "markdown",
      "metadata": {
        "id": "dwt7d8-6aAZC"
      },
      "source": [
        "Fazendo um teste,"
      ]
    },
    {
      "cell_type": "code",
      "metadata": {
        "colab": {
          "base_uri": "https://localhost:8080/"
        },
        "id": "ctMk891SdGb8",
        "outputId": "0bad6245-41fa-4286-9955-96974913d3d7"
      },
      "source": [
        "data1 = DataPoint(10., 1.)\r\n",
        "data2 = DataPoint(25., 1.4)\r\n",
        "data3 = data1 * data2\r\n",
        "\r\n",
        "print(f\"Valor: {data3.value} / Erro: {data3.error}\")"
      ],
      "execution_count": 3,
      "outputs": [
        {
          "output_type": "stream",
          "text": [
            "Valor: 250.0 / Erro: 28.653097563788805\n"
          ],
          "name": "stdout"
        }
      ]
    },
    {
      "cell_type": "markdown",
      "metadata": {
        "id": "H8X7OG9GoTSa"
      },
      "source": [
        "Para uma quantidade N de dados, podemos criar uma DataList."
      ]
    },
    {
      "cell_type": "code",
      "metadata": {
        "id": "de4NAcRjn2NM"
      },
      "source": [
        "def data_list(points):\r\n",
        "    data_points = []\r\n",
        "    for point in points:\r\n",
        "        if isinstance(point, list):\r\n",
        "            data_points.append(DataPoint(point[0], point[1]))\r\n",
        "\r\n",
        "        else:\r\n",
        "            data_points.append(DataPoint(point))\r\n",
        "\r\n",
        "    return data_points\r\n"
      ],
      "execution_count": 4,
      "outputs": []
    },
    {
      "cell_type": "markdown",
      "metadata": {
        "id": "7TaPaE0Vdo0B"
      },
      "source": [
        "# Experimento de Carga-Massa"
      ]
    },
    {
      "cell_type": "markdown",
      "metadata": {
        "id": "CSVvK8nDeVLS"
      },
      "source": [
        "Para o experimento de carga-massa, temos os seguintes dados:"
      ]
    },
    {
      "cell_type": "code",
      "metadata": {
        "id": "6C_2wSlEeUq1"
      },
      "source": [
        "v = data_list([175, 200, 225, 250, 275])\r\n",
        "i = data_list([1.25, 1.50, 1.75, 2.00, 1.50])\r\n",
        "r = data_list([[4.70, 0.5], [4.20, 0.5], [3.85, 0.5], [3.50, 0.5], [4.90, 0.5]])\r\n",
        "\r\n",
        "r_si = []\r\n",
        "for value in r:    \r\n",
        "    r_si.append(value / 100)"
      ],
      "execution_count": 5,
      "outputs": []
    },
    {
      "cell_type": "markdown",
      "metadata": {
        "id": "NXnpkh8phjRc"
      },
      "source": [
        "Realizando os cálculos,"
      ]
    },
    {
      "cell_type": "code",
      "metadata": {
        "colab": {
          "base_uri": "https://localhost:8080/"
        },
        "id": "X6XFDLHWhi-C",
        "outputId": "228f052c-17cd-4622-f12f-23668c9a9c2d"
      },
      "source": [
        "k = DataPoint(125 * (0.149) ** 2 / (32 * 124 ** 2 * 1.26e-6 ** 2))\r\n",
        "\r\n",
        "def charge_mass(V, I, R):\r\n",
        "    return k * V / ((I * R) * (I * R)) \r\n",
        "\r\n",
        "charge_mass_list = []\r\n",
        "for j in range(len(v)):\r\n",
        "    charge_mass_value = charge_mass(v[j], i[j], r[j])\r\n",
        "    print(f\"{charge_mass_value.value} +- {charge_mass_value.error}\")\r\n",
        "    charge_mass_list.append(charge_mass_value)"
      ],
      "execution_count": 6,
      "outputs": [
        {
          "output_type": "stream",
          "text": [
            "180123516819.76398 +- 27099268126.473244\n",
            "179018126486.90686 +- 30139269331.95308\n",
            "176089342835.49347 +- 32341290497.05461\n",
            "181255853067.99316 +- 36619212238.32298\n",
            "180844842063.3038 +- 26097268197.055576\n"
          ],
          "name": "stdout"
        }
      ]
    },
    {
      "cell_type": "markdown",
      "metadata": {
        "id": "HKfG8xyuIquo"
      },
      "source": [
        "Realizando a compatibilidade e a combinação."
      ]
    },
    {
      "cell_type": "code",
      "metadata": {
        "colab": {
          "base_uri": "https://localhost:8080/"
        },
        "id": "ibcO2W1hIt5M",
        "outputId": "b518c5ca-134d-4fce-8259-2409916c0496"
      },
      "source": [
        "if DataPoint.compatibility(charge_mass_list):\r\n",
        "    final_value = DataPoint.combination(charge_mass_list)\r\n",
        "    print(f\"{final_value.value} +- {final_value.error}\")"
      ],
      "execution_count": 7,
      "outputs": [
        {
          "output_type": "stream",
          "text": [
            "179560678352.19757 +- 13324274116.400427\n"
          ],
          "name": "stdout"
        }
      ]
    }
  ]
}